{
 "cells": [
  {
   "cell_type": "code",
   "execution_count": 1,
   "metadata": {},
   "outputs": [],
   "source": [
    "import pandas as pd\n",
    "import os\n",
    "import csv\n",
    "import xlsxwriter"
   ]
  },
  {
   "cell_type": "code",
   "execution_count": 2,
   "metadata": {},
   "outputs": [],
   "source": [
    "#Primer paso: unificar los archivos csv en una lista de listas\n",
    "ruta_archivos = r\"C:\\Users\\Usuario\\Desktop\\Programación\\Proyecto Análisis de Datos Entrenos\\Datos entrenos nuevos\\Sentadilla Frontal\"\n",
    "nombre_archivo = \"Datos Sentadilla Frontal.xlsx\"\n",
    "\n",
    "def unificar_archivos(ruta_archivos):\n",
    "    lista_datos = []\n",
    "    for archivo in os.listdir(ruta_archivos):\n",
    "        if archivo.endswith('.csv'):\n",
    "            ruta_archivo = os.path.join(ruta_archivos, archivo)\n",
    "            with open(ruta_archivo, newline='') as archivo_csv:\n",
    "                lector_csv = csv.reader(archivo_csv)\n",
    "                for fila in lector_csv:\n",
    "                    lista_datos.append(fila)\n",
    "    return lista_datos\n",
    "\n",
    "lista_datos = unificar_archivos(ruta_archivos)"
   ]
  },
  {
   "cell_type": "code",
   "execution_count": 3,
   "metadata": {},
   "outputs": [],
   "source": [
    "#Segundo paso: convertir la lista de listas en un dataframe de pandas\n",
    "def convertir_a_pandas(lista_datos):\n",
    "    df = pd.DataFrame(lista_datos)\n",
    "    return df\n",
    "\n",
    "df = convertir_a_pandas(lista_datos)"
   ]
  },
  {
   "cell_type": "code",
   "execution_count": 4,
   "metadata": {},
   "outputs": [],
   "source": [
    "#Paso 3: eliminar las filas que no nos interesan\n",
    "df.drop(df.loc[df[0] == \"Atleta\"].index, inplace=True)\n",
    "df.drop(df.loc[df[0] == \"Marcado con *: Solo encoder con Bluetooth\"].index, inplace=True)\n",
    "df.drop(df.loc[df[0] == \"Email\"].index, inplace=True)"
   ]
  },
  {
   "cell_type": "code",
   "execution_count": 5,
   "metadata": {},
   "outputs": [],
   "source": [
    "#Paso 4: Determinar que nombre quiero para mis columnas y elimnar esas filas\n",
    "df.columns = df.iloc[0]\n",
    "df.drop(df.loc[df[\"Ejercicio\"] == \"Ejercicio\"].index, inplace=True)"
   ]
  },
  {
   "cell_type": "code",
   "execution_count": 6,
   "metadata": {},
   "outputs": [],
   "source": [
    "#Paso 5: Eliminar las columnas que no me interesan\n",
    "df.drop(\"Comentarios\", axis=1, inplace=True)"
   ]
  },
  {
   "cell_type": "code",
   "execution_count": 7,
   "metadata": {},
   "outputs": [],
   "source": [
    "#Reseteo el index\n",
    "df.reset_index(drop=True, inplace=True)"
   ]
  },
  {
   "cell_type": "code",
   "execution_count": 8,
   "metadata": {},
   "outputs": [],
   "source": [
    "#Paso 6: Igualar todas las filas en las que no haya datos en la columna ejercicio, fecha, etc.\n",
    "\n",
    "def rellenar_datos_faltantes(columna):\n",
    "    valor_del_momento = df.loc[0, columna]\n",
    "    for indice, valor in df[columna].iteritems():\n",
    "        if valor == \"\":\n",
    "            df.loc[indice, columna] = valor_del_momento\n",
    "        else:\n",
    "            valor_del_momento = valor\n",
    "\n",
    "for columna in df.columns:\n",
    "    rellenar_datos_faltantes(columna)"
   ]
  },
  {
   "cell_type": "code",
   "execution_count": 9,
   "metadata": {},
   "outputs": [],
   "source": [
    "#Cambio la fecha a formato date, elimino la hora\n",
    "df[\"Fecha\"] = pd.to_datetime(df[\"Fecha\"], format=\"%d-%m-%Y %H:%M\")\n",
    "df[\"Fecha\"] = df[\"Fecha\"].dt.date\n"
   ]
  },
  {
   "cell_type": "code",
   "execution_count": 10,
   "metadata": {},
   "outputs": [],
   "source": [
    "#Elimino las filas que no tienen datos en la columna serie y en la columna repeticion\n",
    "df = df.dropna(subset=[\"nº Serie\"])\n",
    "df = df.dropna(subset=[\"nº Rep.\"])\n"
   ]
  },
  {
   "cell_type": "code",
   "execution_count": 11,
   "metadata": {},
   "outputs": [],
   "source": [
    "#Reseteo el index\n",
    "df.reset_index(drop=True, inplace=True)"
   ]
  },
  {
   "cell_type": "code",
   "execution_count": 12,
   "metadata": {},
   "outputs": [],
   "source": [
    "#Transformo los datos de las columnas que van a contener datos numericos\n",
    "columnas_no_numericas = [\"Ejercicio\", \"Fecha\", \"Tipo*\"]\n",
    "for columna in df.columns:\n",
    "    if columna not in columnas_no_numericas:\n",
    "        df[columna] = df[columna].str.replace(\",\", \".\")\n",
    "        df[columna] = pd.to_numeric(df[columna])\n"
   ]
  },
  {
   "cell_type": "code",
   "execution_count": 13,
   "metadata": {},
   "outputs": [],
   "source": [
    "#Convierto columna fecha a formato date\n",
    "df[\"Fecha\"] = pd.to_datetime(df[\"Fecha\"], format=\"%Y-%m-%d\")"
   ]
  },
  {
   "cell_type": "code",
   "execution_count": 14,
   "metadata": {},
   "outputs": [],
   "source": [
    "#Convierto dataframe a excel\n",
    "writer = pd.ExcelWriter(nombre_archivo, engine='xlsxwriter')\n",
    "df.to_excel(writer, sheet_name='Sheet1')\n",
    "writer.save()\n"
   ]
  }
 ],
 "metadata": {
  "kernelspec": {
   "display_name": "base",
   "language": "python",
   "name": "python3"
  },
  "language_info": {
   "codemirror_mode": {
    "name": "ipython",
    "version": 3
   },
   "file_extension": ".py",
   "mimetype": "text/x-python",
   "name": "python",
   "nbconvert_exporter": "python",
   "pygments_lexer": "ipython3",
   "version": "3.9.13"
  },
  "orig_nbformat": 4
 },
 "nbformat": 4,
 "nbformat_minor": 2
}
