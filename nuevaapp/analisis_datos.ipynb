{
 "cells": [
  {
   "cell_type": "code",
   "execution_count": 3,
   "metadata": {},
   "outputs": [],
   "source": [
    "import os\n",
    "import csv\n",
    "import pandas as pd\n",
    "\n",
    "ruta_archivos = r\"C:\\Users\\Usuario\\Desktop\\Programación\\Proyecto Análisis de Datos Entrenos\\Datos de entrenamiento\"\n",
    "\n",
    "def unificar_archivos(ruta_archivos):\n",
    "    lista_datos = []\n",
    "    \n",
    "    for raiz, _, archivos in os.walk(ruta_archivos):\n",
    "        for archivo in archivos:\n",
    "            if archivo.endswith('.csv'):\n",
    "                ruta_archivo = os.path.join(raiz, archivo)\n",
    "                with open(ruta_archivo, newline='') as archivo_csv:\n",
    "                    lector_csv = csv.reader(archivo_csv)\n",
    "                    for fila in lector_csv:\n",
    "                        lista_datos.append(fila)\n",
    "    return lista_datos\n",
    "\n",
    "lista_datos = unificar_archivos(ruta_archivos)"
   ]
  },
  {
   "cell_type": "code",
   "execution_count": 4,
   "metadata": {},
   "outputs": [],
   "source": [
    "#Segundo paso: convertir la lista de listas en un dataframe de pandas\n",
    "def convertir_a_pandas(lista_datos):\n",
    "    df = pd.DataFrame(lista_datos)\n",
    "    return df\n",
    "\n",
    "df = convertir_a_pandas(lista_datos)"
   ]
  },
  {
   "cell_type": "code",
   "execution_count": 5,
   "metadata": {},
   "outputs": [],
   "source": [
    "#Paso 3: eliminar las filas que no nos interesan\n",
    "df.drop(df.loc[df[0] == \"Atleta\"].index, inplace=True)\n",
    "df.drop(df.loc[df[0] == \"Marcado con *: Solo encoder con Bluetooth\"].index, inplace=True)\n",
    "df.drop(df.loc[df[0] == \"Email\"].index, inplace=True)"
   ]
  },
  {
   "cell_type": "code",
   "execution_count": 6,
   "metadata": {},
   "outputs": [],
   "source": [
    "#Paso 4: Determinar que nombre quiero para mis columnas y elimnar esas filas\n",
    "df.columns = df.iloc[0]\n",
    "df.drop(df.loc[df[\"Ejercicio\"] == \"Ejercicio\"].index, inplace=True)"
   ]
  },
  {
   "cell_type": "code",
   "execution_count": 7,
   "metadata": {},
   "outputs": [],
   "source": [
    "#Paso 5: Eliminar las columnas que no me interesan\n",
    "df.drop(\"Comentarios\", axis=1, inplace=True)"
   ]
  },
  {
   "cell_type": "code",
   "execution_count": 8,
   "metadata": {},
   "outputs": [],
   "source": [
    "#Reseteo el index\n",
    "df.reset_index(drop=True, inplace=True)"
   ]
  },
  {
   "cell_type": "code",
   "execution_count": 9,
   "metadata": {},
   "outputs": [
    {
     "name": "stderr",
     "output_type": "stream",
     "text": [
      "C:\\Users\\Usuario\\AppData\\Local\\Temp\\ipykernel_1344\\2836985443.py:5: FutureWarning: iteritems is deprecated and will be removed in a future version. Use .items instead.\n",
      "  for indice, valor in df[columna].iteritems():\n"
     ]
    }
   ],
   "source": [
    "#Paso 6: Igualar todas las filas en las que no haya datos en la columna ejercicio, fecha, etc.\n",
    "\n",
    "def rellenar_datos_faltantes(columna):\n",
    "    valor_del_momento = df.loc[0, columna]\n",
    "    for indice, valor in df[columna].iteritems():\n",
    "        if valor == \"\":\n",
    "            df.loc[indice, columna] = valor_del_momento\n",
    "        else:\n",
    "            valor_del_momento = valor\n",
    "\n",
    "for columna in df.columns:\n",
    "    rellenar_datos_faltantes(columna)"
   ]
  },
  {
   "cell_type": "code",
   "execution_count": 10,
   "metadata": {},
   "outputs": [],
   "source": [
    "#Cambio la fecha a formato date, elimino la hora\n",
    "df[\"Fecha\"] = pd.to_datetime(df[\"Fecha\"], format=\"%d-%m-%Y %H:%M\")\n",
    "df[\"Fecha\"] = df[\"Fecha\"].dt.date"
   ]
  }
 ],
 "metadata": {
  "kernelspec": {
   "display_name": "Python 3",
   "language": "python",
   "name": "python3"
  },
  "language_info": {
   "codemirror_mode": {
    "name": "ipython",
    "version": 3
   },
   "file_extension": ".py",
   "mimetype": "text/x-python",
   "name": "python",
   "nbconvert_exporter": "python",
   "pygments_lexer": "ipython3",
   "version": "3.11.2"
  },
  "orig_nbformat": 4
 },
 "nbformat": 4,
 "nbformat_minor": 2
}
