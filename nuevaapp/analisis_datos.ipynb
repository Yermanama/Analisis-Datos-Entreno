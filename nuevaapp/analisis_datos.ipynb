{
 "cells": [
  {
   "cell_type": "code",
   "execution_count": 9,
   "metadata": {},
   "outputs": [],
   "source": [
    "#Primero importamos las libreías que nos van a hacer falta\n",
    "import pandas as pd\n",
    "import matplotlib.pyplot as plt\n",
    "import numpy as np\n",
    "import seaborn as sns"
   ]
  },
  {
   "cell_type": "code",
   "execution_count": 5,
   "metadata": {},
   "outputs": [],
   "source": [
    "#Después nos traemos el archivo de datos\n",
    "df = pd.read_excel(r'C:\\Users\\Usuario\\Desktop\\Programación\\Proyecto Análisis de Datos Entrenos\\nuevaapp\\Datos.xlsx')"
   ]
  },
  {
   "cell_type": "code",
   "execution_count": 20,
   "metadata": {},
   "outputs": [
    {
     "data": {
      "text/html": [
       "<div>\n",
       "<style scoped>\n",
       "    .dataframe tbody tr th:only-of-type {\n",
       "        vertical-align: middle;\n",
       "    }\n",
       "\n",
       "    .dataframe tbody tr th {\n",
       "        vertical-align: top;\n",
       "    }\n",
       "\n",
       "    .dataframe thead th {\n",
       "        text-align: right;\n",
       "    }\n",
       "</style>\n",
       "<table border=\"1\" class=\"dataframe\">\n",
       "  <thead>\n",
       "    <tr style=\"text-align: right;\">\n",
       "      <th></th>\n",
       "      <th>nº Serie</th>\n",
       "      <th>Peso (kg)</th>\n",
       "      <th>nº Rep</th>\n",
       "      <th>VMP (m/s)</th>\n",
       "      <th>Velocidad máxima (m/s)</th>\n",
       "    </tr>\n",
       "  </thead>\n",
       "  <tbody>\n",
       "    <tr>\n",
       "      <th>count</th>\n",
       "      <td>669.00</td>\n",
       "      <td>669.00</td>\n",
       "      <td>669.00</td>\n",
       "      <td>669.00</td>\n",
       "      <td>669.00</td>\n",
       "    </tr>\n",
       "    <tr>\n",
       "      <th>mean</th>\n",
       "      <td>2.86</td>\n",
       "      <td>68.90</td>\n",
       "      <td>2.76</td>\n",
       "      <td>0.78</td>\n",
       "      <td>1.29</td>\n",
       "    </tr>\n",
       "    <tr>\n",
       "      <th>std</th>\n",
       "      <td>2.02</td>\n",
       "      <td>36.88</td>\n",
       "      <td>1.95</td>\n",
       "      <td>0.30</td>\n",
       "      <td>0.47</td>\n",
       "    </tr>\n",
       "    <tr>\n",
       "      <th>min</th>\n",
       "      <td>1.00</td>\n",
       "      <td>20.00</td>\n",
       "      <td>1.00</td>\n",
       "      <td>0.31</td>\n",
       "      <td>0.44</td>\n",
       "    </tr>\n",
       "    <tr>\n",
       "      <th>25%</th>\n",
       "      <td>1.00</td>\n",
       "      <td>55.00</td>\n",
       "      <td>1.00</td>\n",
       "      <td>0.62</td>\n",
       "      <td>0.95</td>\n",
       "    </tr>\n",
       "    <tr>\n",
       "      <th>50%</th>\n",
       "      <td>2.00</td>\n",
       "      <td>65.00</td>\n",
       "      <td>2.00</td>\n",
       "      <td>0.72</td>\n",
       "      <td>1.24</td>\n",
       "    </tr>\n",
       "    <tr>\n",
       "      <th>75%</th>\n",
       "      <td>3.00</td>\n",
       "      <td>84.00</td>\n",
       "      <td>4.00</td>\n",
       "      <td>0.83</td>\n",
       "      <td>1.53</td>\n",
       "    </tr>\n",
       "    <tr>\n",
       "      <th>max</th>\n",
       "      <td>14.00</td>\n",
       "      <td>884.00</td>\n",
       "      <td>11.00</td>\n",
       "      <td>2.34</td>\n",
       "      <td>3.00</td>\n",
       "    </tr>\n",
       "  </tbody>\n",
       "</table>\n",
       "</div>"
      ],
      "text/plain": [
       "       nº Serie  Peso (kg)  nº Rep  VMP (m/s)  Velocidad máxima (m/s)\n",
       "count    669.00     669.00  669.00     669.00                  669.00\n",
       "mean       2.86      68.90    2.76       0.78                    1.29\n",
       "std        2.02      36.88    1.95       0.30                    0.47\n",
       "min        1.00      20.00    1.00       0.31                    0.44\n",
       "25%        1.00      55.00    1.00       0.62                    0.95\n",
       "50%        2.00      65.00    2.00       0.72                    1.24\n",
       "75%        3.00      84.00    4.00       0.83                    1.53\n",
       "max       14.00     884.00   11.00       2.34                    3.00"
      ]
     },
     "metadata": {},
     "output_type": "display_data"
    }
   ],
   "source": [
    "#Vamos a ver primero una primera aproximación a los datos con una estadística descriptiva básica\n",
    "estadisticas_basicas = df.describe().round(2)\n",
    "\n",
    "#Quiero representar gráficamente los datos de estadísticas básicas con un histograma\n",
    "# Elimina la columna 'Unnamed: 0'\n",
    "estadisticas_basicas = estadisticas_basicas.drop('Unnamed: 0', axis=1)\n",
    "\n",
    "from IPython.display import display\n",
    "display(estadisticas_basicas)\n"
   ]
  }
 ],
 "metadata": {
  "kernelspec": {
   "display_name": "Python 3",
   "language": "python",
   "name": "python3"
  },
  "language_info": {
   "codemirror_mode": {
    "name": "ipython",
    "version": 3
   },
   "file_extension": ".py",
   "mimetype": "text/x-python",
   "name": "python",
   "nbconvert_exporter": "python",
   "pygments_lexer": "ipython3",
   "version": "3.11.2"
  },
  "orig_nbformat": 4
 },
 "nbformat": 4,
 "nbformat_minor": 2
}
