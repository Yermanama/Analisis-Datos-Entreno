{
 "cells": [
  {
   "cell_type": "code",
   "execution_count": 11,
   "metadata": {},
   "outputs": [],
   "source": [
    "import pandas as pd\n",
    "import os\n",
    "import csv\n",
    "import xlsxwriter"
   ]
  },
  {
   "cell_type": "code",
   "execution_count": 13,
   "metadata": {},
   "outputs": [],
   "source": [
    "ruta_archivos = r\"C:\\Users\\Usuario\\Desktop\\Programación\\Proyecto Análisis de Datos Entrenos\\Datos entrenos nuevos\\Sentadilla Frontal\"\n",
    "nombre_archivo = \"Datos Sentadilla Frontal.xlsx\"\n",
    "\n",
    "def unificar_archivos(ruta_archivos):\n",
    "    lista_datos = []\n",
    "    for archivo in os.listdir(ruta_archivos):\n",
    "        if archivo.endswith('.csv'):\n",
    "            ruta_archivo = os.path.join(ruta_archivos, archivo)\n",
    "            with open(ruta_archivo, newline='') as archivo_csv:\n",
    "                lector_csv = csv.reader(archivo_csv)\n",
    "                for fila in lector_csv:\n",
    "                    lista_datos.append(fila)\n",
    "    return lista_datos\n",
    "\n",
    "\n",
    "def convertir_pandas_y_depurar(lista_datos):\n",
    "    df = pd.DataFrame(lista_datos)\n",
    "    return df\n",
    "\n",
    "\n",
    "\n",
    "\n",
    "lista_datos = unificar_archivos(ruta_archivos)\n",
    "convertir_pandas_y_xlsx(lista_datos, nombre_archivo)"
   ]
  },
  {
   "cell_type": "code",
   "execution_count": null,
   "metadata": {},
   "outputs": [],
   "source": []
  }
 ],
 "metadata": {
  "kernelspec": {
   "display_name": "base",
   "language": "python",
   "name": "python3"
  },
  "language_info": {
   "codemirror_mode": {
    "name": "ipython",
    "version": 3
   },
   "file_extension": ".py",
   "mimetype": "text/x-python",
   "name": "python",
   "nbconvert_exporter": "python",
   "pygments_lexer": "ipython3",
   "version": "3.9.13"
  },
  "orig_nbformat": 4
 },
 "nbformat": 4,
 "nbformat_minor": 2
}
